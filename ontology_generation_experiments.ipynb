{
 "cells": [
  {
   "cell_type": "code",
   "execution_count": 53,
   "metadata": {
    "collapsed": true
   },
   "outputs": [],
   "source": [
    "\"\"\"\n",
    "Some experiments in generating an ontology using wordnet synset rings to traverse relationships across words.\n",
    "\n",
    "The goal would be to generate a triple, commonly used in ontology graphs:\n",
    "\n",
    "for a given word, let's say \"Cat\":\n",
    "\n",
    "[(cat, isA, animal),\n",
    " (cat, hasA, tail),\n",
    " (cat, isA, feline),\n",
    " ...etc\n",
    "]\n",
    "\n",
    "\"\"\"\n",
    "\n",
    "from pprint import pprint as ppr\n",
    "\n",
    "from nltk import pos_tag, word_tokenize, WordNetLemmatizer\n",
    "from nltk.corpus import (\n",
    "    verbnet,\n",
    "    wordnet,\n",
    ")\n"
   ]
  },
  {
   "cell_type": "code",
   "execution_count": 56,
   "metadata": {
    "collapsed": false
   },
   "outputs": [],
   "source": [
    "def get_synsets(word):\n",
    "    return wordnet.synsets(word, pos=None)\n",
    "\n",
    "def make_triples(word):\n",
    "    triples = []\n",
    "    syn = get_synsets(word)\n",
    "    for synword in syn:\n",
    "        #print('synset word = ', synword)\n",
    "        for lemma in synword.lemma_names():\n",
    "            print('lemma =', lemma)\n",
    "            triples.append((word, 'isA', lemma))\n",
    "        for hyper in synword.hypernyms():\n",
    "            print('hyper = ', hyper)\n",
    "            triples.append((word, 'isA', hyper))\n",
    "        for holo in synword.part_holonyms():\n",
    "            print('holo = ', holo)\n",
    "            triples.append((holo, 'hasA', word))\n",
    "        for meronym in synword.part_meronyms():\n",
    "            triples.append((word, 'hasA', meronym))\n",
    "            #print(' |____ meronym = ', meronym)\n",
    "    return triples\n"
   ]
  },
  {
   "cell_type": "code",
   "execution_count": 58,
   "metadata": {
    "collapsed": false
   },
   "outputs": [
    {
     "name": "stdout",
     "output_type": "stream",
     "text": [
      "lemma = car\n",
      "lemma = auto\n",
      "lemma = automobile\n",
      "lemma = machine\n",
      "lemma = motorcar\n",
      "hyper =  Synset('motor_vehicle.n.01')\n",
      "lemma = car\n",
      "lemma = railcar\n",
      "lemma = railway_car\n",
      "lemma = railroad_car\n",
      "hyper =  Synset('wheeled_vehicle.n.01')\n",
      "lemma = car\n",
      "lemma = gondola\n",
      "hyper =  Synset('compartment.n.02')\n",
      "holo =  Synset('airship.n.01')\n",
      "lemma = car\n",
      "lemma = elevator_car\n",
      "hyper =  Synset('compartment.n.02')\n",
      "holo =  Synset('elevator.n.01')\n",
      "lemma = cable_car\n",
      "lemma = car\n",
      "hyper =  Synset('compartment.n.02')\n",
      "holo =  Synset('cable_railway.n.01')\n",
      "res\n",
      "----\n",
      "[('car', 'isA', 'car'),\n",
      " ('car', 'isA', 'auto'),\n",
      " ('car', 'isA', 'automobile'),\n",
      " ('car', 'isA', 'machine'),\n",
      " ('car', 'isA', 'motorcar'),\n",
      " ('car', 'isA', Synset('motor_vehicle.n.01')),\n",
      " ('car', 'hasA', Synset('accelerator.n.01')),\n",
      " ('car', 'hasA', Synset('air_bag.n.01')),\n",
      " ('car', 'hasA', Synset('auto_accessory.n.01')),\n",
      " ('car', 'hasA', Synset('automobile_engine.n.01')),\n",
      " ('car', 'hasA', Synset('automobile_horn.n.01')),\n",
      " ('car', 'hasA', Synset('buffer.n.06')),\n",
      " ('car', 'hasA', Synset('bumper.n.02')),\n",
      " ('car', 'hasA', Synset('car_door.n.01')),\n",
      " ('car', 'hasA', Synset('car_mirror.n.01')),\n",
      " ('car', 'hasA', Synset('car_seat.n.01')),\n",
      " ('car', 'hasA', Synset('car_window.n.01')),\n",
      " ('car', 'hasA', Synset('fender.n.01')),\n",
      " ('car', 'hasA', Synset('first_gear.n.01')),\n",
      " ('car', 'hasA', Synset('floorboard.n.02')),\n",
      " ('car', 'hasA', Synset('gasoline_engine.n.01')),\n",
      " ('car', 'hasA', Synset('glove_compartment.n.01')),\n",
      " ('car', 'hasA', Synset('grille.n.02')),\n",
      " ('car', 'hasA', Synset('high_gear.n.01')),\n",
      " ('car', 'hasA', Synset('hood.n.09')),\n",
      " ('car', 'hasA', Synset('luggage_compartment.n.01')),\n",
      " ('car', 'hasA', Synset('rear_window.n.01')),\n",
      " ('car', 'hasA', Synset('reverse.n.02')),\n",
      " ('car', 'hasA', Synset('roof.n.02')),\n",
      " ('car', 'hasA', Synset('running_board.n.01')),\n",
      " ('car', 'hasA', Synset('stabilizer_bar.n.01')),\n",
      " ('car', 'hasA', Synset('sunroof.n.01')),\n",
      " ('car', 'hasA', Synset('tail_fin.n.02')),\n",
      " ('car', 'hasA', Synset('third_gear.n.01')),\n",
      " ('car', 'hasA', Synset('window.n.02')),\n",
      " ('car', 'isA', 'car'),\n",
      " ('car', 'isA', 'railcar'),\n",
      " ('car', 'isA', 'railway_car'),\n",
      " ('car', 'isA', 'railroad_car'),\n",
      " ('car', 'isA', Synset('wheeled_vehicle.n.01')),\n",
      " ('car', 'hasA', Synset('suspension.n.05')),\n",
      " ('car', 'isA', 'car'),\n",
      " ('car', 'isA', 'gondola'),\n",
      " ('car', 'isA', Synset('compartment.n.02')),\n",
      " (Synset('airship.n.01'), 'hasA', 'car'),\n",
      " ('car', 'isA', 'car'),\n",
      " ('car', 'isA', 'elevator_car'),\n",
      " ('car', 'isA', Synset('compartment.n.02')),\n",
      " (Synset('elevator.n.01'), 'hasA', 'car'),\n",
      " ('car', 'isA', 'cable_car'),\n",
      " ('car', 'isA', 'car'),\n",
      " ('car', 'isA', Synset('compartment.n.02')),\n",
      " (Synset('cable_railway.n.01'), 'hasA', 'car')]\n"
     ]
    }
   ],
   "source": [
    "res = make_triples('car')\n",
    "print('res\\n----')\n",
    "ppr(res)\n"
   ]
  },
  {
   "cell_type": "code",
   "execution_count": null,
   "metadata": {
    "collapsed": true
   },
   "outputs": [],
   "source": []
  },
  {
   "cell_type": "code",
   "execution_count": null,
   "metadata": {
    "collapsed": true
   },
   "outputs": [],
   "source": []
  }
 ],
 "metadata": {
  "kernelspec": {
   "display_name": "Python 3",
   "language": "python",
   "name": "python3"
  },
  "language_info": {
   "codemirror_mode": {
    "name": "ipython",
    "version": 3
   },
   "file_extension": ".py",
   "mimetype": "text/x-python",
   "name": "python",
   "nbconvert_exporter": "python",
   "pygments_lexer": "ipython3",
   "version": "3.4.3"
  }
 },
 "nbformat": 4,
 "nbformat_minor": 2
}
