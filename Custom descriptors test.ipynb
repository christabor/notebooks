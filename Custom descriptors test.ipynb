{
 "cells": [
  {
   "cell_type": "code",
   "execution_count": 16,
   "metadata": {
    "collapsed": false
   },
   "outputs": [
    {
     "name": "stdout",
     "output_type": "stream",
     "text": [
      "foostr\n"
     ]
    }
   ],
   "source": [
    "class StringMax(object):\n",
    "    def __init__(self, default, maxlen=1000):\n",
    "        if len(default) > maxlen:\n",
    "            raise ValueError('String too long!')\n",
    "        self.default = default\n",
    "        self.data = dict()\n",
    "        self.maxlen = maxlen\n",
    "    \n",
    "    def __get__(self, instance, owner):\n",
    "        return self.data.get(instance, self.default)\n",
    "        \n",
    "    def __set__(self, instance, value):\n",
    "        if len(self.instance) > self.maxlen:\n",
    "            raise ValueError('String too long!')\n",
    "        self.data[instance] = value\n",
    "    \n",
    "    def __delete__(self, instance):\n",
    "        if instance in self.data:\n",
    "            del self.data[instance]\n",
    "\n",
    "\n",
    "class MyThing(object):\n",
    "    foo = StringMax('foostr', maxlen=6)\n",
    "    quux = StringMax('quuxstr', maxlen=7)\n",
    "\n",
    "\n",
    "mything = MyThing()\n",
    "val = mything.foo\n",
    "print(val)\n"
   ]
  },
  {
   "cell_type": "code",
   "execution_count": null,
   "metadata": {
    "collapsed": true
   },
   "outputs": [],
   "source": []
  },
  {
   "cell_type": "code",
   "execution_count": null,
   "metadata": {
    "collapsed": true
   },
   "outputs": [],
   "source": []
  },
  {
   "cell_type": "code",
   "execution_count": null,
   "metadata": {
    "collapsed": true
   },
   "outputs": [],
   "source": []
  }
 ],
 "metadata": {
  "kernelspec": {
   "display_name": "Python 2",
   "language": "python",
   "name": "python2"
  },
  "language_info": {
   "codemirror_mode": {
    "name": "ipython",
    "version": 2
   },
   "file_extension": ".py",
   "mimetype": "text/x-python",
   "name": "python",
   "nbconvert_exporter": "python",
   "pygments_lexer": "ipython2",
   "version": "2.7.10"
  }
 },
 "nbformat": 4,
 "nbformat_minor": 0
}
